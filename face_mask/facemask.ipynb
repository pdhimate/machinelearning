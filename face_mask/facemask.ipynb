{
  "nbformat": 4,
  "nbformat_minor": 0,
  "metadata": {
    "language_info": {
      "codemirror_mode": {
        "name": "ipython",
        "version": 3
      },
      "file_extension": ".py",
      "mimetype": "text/x-python",
      "name": "python",
      "nbconvert_exporter": "python",
      "pygments_lexer": "ipython3",
      "version": "3.7.8-final"
    },
    "orig_nbformat": 2,
    "kernelspec": {
      "name": "python_defaultSpec_1600496563814",
      "display_name": "Python 3.7.8 64-bit"
    },
    "colab": {
      "name": "facemask.ipynb",
      "provenance": [],
      "collapsed_sections": []
    },
    "accelerator": "GPU"
  },
  "cells": [
    {
      "cell_type": "markdown",
      "metadata": {
        "id": "A7lRn2SUgMRW"
      },
      "source": [
        "**TODO**\n",
        "\n",
        "\n",
        "\n",
        "1.   Combine all new images into a single folder - Piyush\n",
        "2.   Use Model to classify new images as with or without mask - Jaspreet \n",
        "3.   Use pretrained model to get a good model which is stable unlike cuurent one\n",
        "4.   Use Face Recognition to preprocess all the images\n",
        "5.   Retrain the model\n",
        "\n",
        "Everything looks great vgg19, resnet50 are working as well. If we can somehow restrict the dataset to just images of faces, then we can have a very strong model and use it it face detection to make a final video.\n",
        "\n"
      ]
    },
    {
      "cell_type": "code",
      "metadata": {
        "id": "j0XLhv5-Pwbr"
      },
      "source": [
        "import numpy as np\n",
        "import pandas as pd\n",
        "import glob\n",
        "import matplotlib.pyplot as plt\n",
        "import cv2\n",
        "import os\n",
        "from tqdm import tqdm\n",
        "from sklearn.model_selection import train_test_split\n",
        "from sklearn.utils import shuffle\n",
        "from keras.utils import to_categorical\n",
        "from keras.models import Sequential\n",
        "from keras.layers import Conv2D, MaxPooling2D, Dense, Flatten\n",
        "from keras.layers import Activation, Dropout\n",
        "from keras.optimizers import Adam, RMSprop\n",
        "from keras.applications import VGG19,VGG16,ResNet50,ResNet50V2,ResNet152V2\n",
        "from keras import backend as K\n",
        "from keras.callbacks import LearningRateScheduler, EarlyStopping, ReduceLROnPlateau\n",
        "\n",
        "import tensorflow as tf\n",
        "from tensorflow import keras\n",
        "import tensorflow_datasets  as tfds\n",
        "from tensorflow.keras import models, layers, optimizers, regularizers\n",
        "from tensorflow.keras.models import Sequential\n",
        "from tensorflow.keras.utils import plot_model, to_categorical\n",
        "\n",
        "from PIL import Image as pil_image\n",
        "from matplotlib import pyplot as plt\n",
        "import time\n"
      ],
      "execution_count": 1,
      "outputs": []
    },
    {
      "cell_type": "code",
      "metadata": {
        "id": "3MOnfihhPzm_",
        "colab": {
          "base_uri": "https://localhost:8080/"
        },
        "outputId": "245268c3-e823-44e0-98ab-e43905885e45"
      },
      "source": [
        "# Download dataset from github\n",
        "\n",
        "# With Mask\n",
        "!npx degit pdhimate/machinelearning/face_mask/dataset/with_mask/#32a39624c9e99f099611e74b1735245caa0f664c -f with_mask\n",
        "#!npx degit pdhimate/machinelearning/face_mask/dataset/raw/RMFD_part_3/single2-0#c845ed6adfc3cc6ff46d00fb7f4826c34c759f0a -f with_mask\n",
        "\n",
        "# Without Mask\n",
        "!npx degit pdhimate/machinelearning/face_mask/dataset/without_mask/#32a39624c9e99f099611e74b1735245caa0f664c -f without_mask\n"
      ],
      "execution_count": 2,
      "outputs": [
        {
          "output_type": "stream",
          "text": [
            "\u001b[K\u001b[?25hnpx: installed 1 in 0.888s\n",
            "\u001b[36m> destination directory is not empty. Using --force, continuing\u001b[39m\n",
            "\u001b[36m> cloned \u001b[1mpdhimate/machinelearning\u001b[22m#\u001b[1m32a39624c9e99f099611e74b1735245caa0f664c\u001b[22m to with_mask\u001b[39m\n",
            "\u001b[K\u001b[?25hnpx: installed 1 in 2.032s\n",
            "\u001b[36m> destination directory is not empty. Using --force, continuing\u001b[39m\n",
            "\u001b[36m> cloned \u001b[1mpdhimate/machinelearning\u001b[22m#\u001b[1m32a39624c9e99f099611e74b1735245caa0f664c\u001b[22m to without_mask\u001b[39m\n"
          ],
          "name": "stdout"
        }
      ]
    },
    {
      "cell_type": "code",
      "metadata": {
        "id": "lD66ZHfN7IW8"
      },
      "source": [
        "# detects faces\n",
        "face_cascade = cv2.CascadeClassifier(cv2.data.haarcascades +'haarcascade_frontalface_alt2.xml')"
      ],
      "execution_count": 3,
      "outputs": []
    },
    {
      "cell_type": "code",
      "metadata": {
        "id": "UB1BGt6RkBNV"
      },
      "source": [
        "# Init variables and funcs\n",
        "WITH_MASK_DIR = '/content/with_mask'\n",
        "WITHOUT_MASK_DIR =  '/content/without_mask'\n",
        "img_height, img_width = 64, 64\n",
        "\n",
        "def preprocess_dataset(dir, labels):\n",
        "  for file in tqdm(os.listdir(dir)):\n",
        "    path = os.path.join(dir, file)\n",
        "    img = cv2.imread(path)\n",
        "    #img = cv2.cvtColor(img, cv2.COLOR_BGR2GRAY) # convert to grayscale\n",
        "    faces = face_cascade.detectMultiScale(img, 1.1, 4)\n",
        "    # If face detected then crop the face part\n",
        "    if len(faces) > 0:\n",
        "      for (x,y,w,h) in faces:\n",
        "            #print(faces)\n",
        "            face = img[int(y):int(y+h), int(x):int(x+w)]\n",
        "            face = cv2.resize(face, (img_width, img_height))\n",
        "            face = face/255\n",
        "            dataset.append([np.array(face), np.array(labels)])\n",
        "\n",
        "    else:\n",
        "      img = cv2.resize(img, (img_width, img_height))\n",
        "      img = img/255\n",
        "      dataset.append([np.array(img), np.array(labels)])\n",
        "\n",
        "def plot_accuracy_loss(train_ac, val_ac, train_loss, val_loss):\n",
        "  # Plot Epoch vs Accuracy metric values\n",
        "  plt.plot(train_ac, label='training accuracy')\n",
        "  plt.plot(val_ac, label = 'validation accuracy')\n",
        "  plt.xlabel('Epoch')\n",
        "  plt.ylabel('Accuracy')\n",
        "  plt.legend()\n",
        "  plt.show()\n",
        "\n",
        "  # Plot Epoch vs loss values\n",
        "  plt.plot(train_loss, label = 'training loss')\n",
        "  plt.plot(val_loss, label = 'validation loss')\n",
        "  plt.title('Model loss')\n",
        "  plt.xlabel('Epoch')\n",
        "  plt.ylabel('Loss')\n",
        "  plt.legend()\n",
        "  plt.show()\n",
        "\n",
        "# helper functions to create the pipeline and augment images\n",
        "def image_preprocessor(image, label):\n",
        "  #image = tf.image.convert_image_dtype(image, tf.float32)  \n",
        "  #image = tf.image.resize(image, [img_width,img_width]) \n",
        "  # image = tf.reshape(image, (28,28,1)) # 28,28 to 28,28,1 (single channel)\n",
        "  #image = cv2.cvtColor(image, cv2.COLOR_BGR2GRAY) # convert to grayscale\n",
        "  return image, label\n",
        "\n",
        "def image_augmenter(image, label):\n",
        "  image = tf.image.random_flip_up_down(image)  # vertical flip\n",
        "  image = tf.image.random_flip_left_right(image)  # horizontal flip\n",
        "  return image, label\n",
        "\n",
        "def read_all_images(dir, labels, dataset):\n",
        "  for file in tqdm(os.listdir(dir)):\n",
        "    path = os.path.join(dir, file)\n",
        "    img = cv2.imread(path)\n",
        "    img = cv2.resize(img, (img_width, img_height))\n",
        "    img = cv2.cvtColor(img, cv2.COLOR_BGR2RGB)\n",
        "    dataset.append((np.array(img), np.array(labels)))\n",
        "\n",
        "# Model fine tuner for pipelines as inputs\n",
        "def train_tune_model_piped(model_creators, # parameterless func that creates a model\n",
        "                     train_data_pipe, val_data_pipe, test_data_pipe, # dataset pipelines\n",
        "                     learning_rates, epochs, optimizers, loss_funcs,  # hyper-parameters\n",
        "                     batch_size, callbacks, steps = 100, verbose=0):\n",
        "  results = []\n",
        "  for model_creator in model_creators:  \n",
        "    for epoch in epochs:\n",
        "      for opt in optimizers:\n",
        "        for lr in learning_rates:\n",
        "          for lf in loss_funcs:\n",
        "            print(\"############## Running for following parameters ###############\")\n",
        "            model_name = str(model_creator.__name__)\n",
        "            print(\"Model: \", model_name, \"Epochs: \", epoch,\", Optimizer: \", opt, \", Learning rate: \", lr, \", Loss Function: \", lf)\n",
        "            model = model_creator()\n",
        "            model.compile( loss= lf, optimizer= opt, metrics=['accuracy'])\n",
        "            K.set_value(model.optimizer.learning_rate, lr)\n",
        "            start_time = time.time()\n",
        "            with tf.device('/device:GPU:0'):\n",
        "              hist = model.fit(train_data_pipe ,epochs = epoch,\n",
        "                              steps_per_epoch = steps,#(len(train_data_pipe)/batch_size\n",
        "                              #batch_size = batch_size, # todo uncomment this before creating the HTML output file\n",
        "                              validation_steps = steps,\n",
        "                              validation_data = val_data_pipe,\n",
        "                              callbacks = callbacks,verbose=verbose)\n",
        "            execution_sec = (time.time() - start_time)\n",
        "            result = model.evaluate(test_data_pipe)\n",
        "            results.append({ 'Model': model_name, 'Epochs': epoch,'Optimizer': opt,'Learning rate': lr,'Loss Function': lf,\n",
        "                        'Test Accuracy': result[1],'Train Time (sec)':execution_sec, 'History': hist,'Model': model })\n",
        "            print(\"Run complete. Test accuracy is: \", result[1])\n",
        "            print(\"\")\n",
        "  # Sort results by Test Accuracy descending.\n",
        "  results = pd.DataFrame(results).sort_values('Test Accuracy', ascending = False)\n",
        "  best_model = results.iloc[[0]]['Model'].values[0] # used for predictions if needed\n",
        "  best_model_history = results.iloc[[0]]['History'].values[0] # used for plotting\n",
        "  results = results.iloc[:,:-2] # we ignore last 2 columns which model and history.  \n",
        "  return best_model, best_model_history, results              \n",
        "\n",
        "\n",
        "# Model definitions\n",
        "def cnn_model():\n",
        "  model = Sequential()\n",
        "\n",
        "  model.add(Conv2D(32, (3,3), input_shape=train_x.shape[1:], activation='relu'))\n",
        "  model.add(MaxPooling2D((2,2), strides=(1,1), padding='same'))\n",
        "  model.add(Dropout(0.2))\n",
        "\n",
        "  model.add(Conv2D(64, (3,3), activation='relu'))\n",
        "  model.add(MaxPooling2D((2,2), strides=(1,1), padding='same'))\n",
        "  model.add(Dropout(0.2))\n",
        "\n",
        "  model.add(Conv2D(128, (3,3), activation='relu'))\n",
        "  model.add(MaxPooling2D((2,2), strides=(1,1), padding='same'))\n",
        "  model.add(Dropout(0.2))\n",
        "\n",
        "  model.add(Flatten())\n",
        "  model.add(Dense(128, activation='relu'))\n",
        "  model.add(Dense(64, activation='relu'))\n",
        "  model.add(Dropout(0.5))\n",
        "  model.add(Dense(2, activation='softmax'))\n",
        "\n",
        "  return model\n",
        "\n",
        "def dense_model():\n",
        "  model = Sequential()\n",
        "\n",
        "  model.add(layers.BatchNormalization(input_shape=train_x.shape[1:]))\n",
        "  model.add(Flatten())\n",
        "  model.add(Dense(128, activation='relu'))\n",
        "  model.add(Dense(64, activation='relu'))\n",
        "  model.add(Dropout(0.5))\n",
        "  model.add(Dense(2, activation='softmax'))\n",
        "\n",
        "  return model\n",
        "\n",
        "def resnet_model():\n",
        "  model = ResNet50(weights=None, # we dont use pretrained weights\n",
        "            include_top=True,\n",
        "            input_shape=train_x.shape[1:], # size of our input\n",
        "            classes=2) \n",
        "  return model\n",
        "\n",
        "\n",
        "def vgg_model():\n",
        "  model = VGG19(weights=None, # we dont use pretrained weights\n",
        "            include_top=True,\n",
        "            input_shape=train_x.shape[1:], # size of our input\n",
        "            classes=2) \n",
        "  return model\n"
      ],
      "execution_count": 4,
      "outputs": []
    },
    {
      "cell_type": "code",
      "metadata": {
        "colab": {
          "base_uri": "https://localhost:8080/"
        },
        "id": "qlk8tEdgKqt7",
        "outputId": "23e4b559-022e-4122-ffba-6393788d359c"
      },
      "source": [
        "# read all images with labels from dir/files\n",
        "# Stores the entire dataset\n",
        "dataset = []\n",
        "read_all_images(WITH_MASK_DIR, [1,0], dataset)\n",
        "read_all_images(WITHOUT_MASK_DIR, [0,1], dataset)"
      ],
      "execution_count": 5,
      "outputs": [
        {
          "output_type": "stream",
          "text": [
            "100%|██████████| 1839/1839 [00:08<00:00, 208.22it/s]\n",
            "100%|██████████| 1850/1850 [00:02<00:00, 904.48it/s]\n"
          ],
          "name": "stderr"
        }
      ]
    },
    {
      "cell_type": "code",
      "metadata": {
        "colab": {
          "base_uri": "https://localhost:8080/",
          "height": 285
        },
        "id": "Qt2E0ncXLyGk",
        "outputId": "7fe663ff-5dd5-4f44-88b2-b198f1728c24"
      },
      "source": [
        "# Display image\n",
        "#pil_image.fromarray(dataset[0][0]).convert('RGB')\n",
        "plt.imshow(dataset[71][0],cmap='gray')"
      ],
      "execution_count": 6,
      "outputs": [
        {
          "output_type": "execute_result",
          "data": {
            "text/plain": [
              "<matplotlib.image.AxesImage at 0x7fc775e3c5f8>"
            ]
          },
          "metadata": {
            "tags": []
          },
          "execution_count": 6
        },
        {
          "output_type": "display_data",
          "data": {
            "image/png": "[encoded data removed]",
            "text/plain": [
              "<Figure size 432x288 with 1 Axes>"
            ]
          },
          "metadata": {
            "tags": [],
            "needs_background": "light"
          }
        }
      ]
    },
    {
      "cell_type": "code",
      "metadata": {
        "colab": {
          "base_uri": "https://localhost:8080/"
        },
        "id": "B_E5iGTH0FWU",
        "outputId": "3958b6b5-a7a3-4ced-9246-73306f3fbd32"
      },
      "source": [
        "# Slice the Data adn Labels\n",
        "data = np.array([i[0] for i in dataset])#.reshape(-1, img_height, img_width, 3)\n",
        "labels = np.array([i[1] for i in dataset])\n",
        "print()\n",
        "print(\"Data Shape: \", data.shape)\n",
        "print(\"Label shape\", labels.shape)\n",
        "\n",
        "# Stratified split to Train, Test and Val\n",
        "train_x, test_x, train_y, test_y = train_test_split(data,labels, test_size=0.2, random_state=42, stratify=labels)\n",
        "train_x, val_x, train_y, val_y = train_test_split(train_x,train_y, test_size=0.25, random_state=42, stratify=train_y)\n",
        "print()\n",
        "print(\"Train dataset\", train_x.shape, train_y.shape)\n",
        "print(\"Test dataset\",test_x.shape, test_y.shape)\n",
        "print(\"Val dataset\", val_x.shape, val_y.shape)\n",
        "\n",
        "# Create pipelines\n",
        "batch_size = 128\n",
        "train_pipe = tf.data.Dataset.from_tensor_slices((train_x, train_y))\n",
        "train_pipe = (train_pipe\n",
        "              .map(image_preprocessor, num_parallel_calls=tf.data.experimental.AUTOTUNE)\n",
        "              .map(image_augmenter, num_parallel_calls=tf.data.experimental.AUTOTUNE)\n",
        "              .batch(batch_size) # batch the data so that we do not run out of RAM.\n",
        "              .cache()\n",
        "              .repeat() # repeat so that fit() does not run out of data while running a step (depending on batch size)\n",
        "              .prefetch(tf.data.experimental.AUTOTUNE)) # This was added to improve performance as checked in profiler\n",
        "val_pipe = (tf.data.Dataset.from_tensor_slices((val_x, val_y))\n",
        "              .map(image_preprocessor, num_parallel_calls=tf.data.experimental.AUTOTUNE)\n",
        "              .batch(batch_size).cache().repeat())\n",
        "test_pipe = (tf.data.Dataset.from_tensor_slices((test_x, test_y))\n",
        "              .map(image_preprocessor, num_parallel_calls=tf.data.experimental.AUTOTUNE)\n",
        "              .batch(batch_size).cache())\n",
        "print()\n",
        "print(\"Pipelines created. Specs: \")\n",
        "print(\"Train pipe: \", train_pipe.element_spec)\n",
        "print(\"Test pipe: \", test_pipe.element_spec)\n",
        "print(\"Validation pipe: \", val_pipe.element_spec)\n",
        "\n",
        "# Set hyper parameters\n",
        "model_creators = [ vgg_model, resnet_model, dense_model]\n",
        "epochs = [10]  \n",
        "optimizers = ['adam']\n",
        "learning_rates = [0.0001]\n",
        "loss_functions = [ 'binary_crossentropy']\n",
        "steps = 50#len(train_x)/batch_size\n",
        "callbacks =[]#[ReduceLROnPlateau(monitor='val_accuracy',patience=2,verbose=1,factor=0.5, min_lr=0.00001)]\n",
        "# EarlyStopping( monitor='val_loss', min_delta = 0, # any change less than 0 counts as no improvement\n",
        "#     patience = 7, # wait until these many epochs with no imporvemnt then stop training\n",
        "#     verbose = 2, mode='auto')]\n",
        "\n",
        "# Train model\n",
        "print()\n",
        "print(\"Training the model\")\n",
        "best_model, best_accuracy_result, results_df = train_tune_model_piped(\n",
        "                model_creators, # parameterless functions that create a model\n",
        "                train_pipe, val_pipe, test_pipe, # data pipes\n",
        "                learning_rates, epochs, optimizers, loss_functions,  # hyper-parameters\n",
        "                batch_size, callbacks, steps, 1)\n"
      ],
      "execution_count": 7,
      "outputs": [
        {
          "output_type": "stream",
          "text": [
            "\n",
            "Data Shape:  (3689, 64, 64, 3)\n",
            "Label shape (3689, 2)\n",
            "\n",
            "Train dataset (2213, 64, 64, 3) (2213, 2)\n",
            "Test dataset (738, 64, 64, 3) (738, 2)\n",
            "Val dataset (738, 64, 64, 3) (738, 2)\n",
            "\n",
            "Pipelines created. Specs: \n",
            "Train pipe:  (TensorSpec(shape=(None, 64, 64, 3), dtype=tf.uint8, name=None), TensorSpec(shape=(None, 2), dtype=tf.int64, name=None))\n",
            "Test pipe:  (TensorSpec(shape=(None, 64, 64, 3), dtype=tf.uint8, name=None), TensorSpec(shape=(None, 2), dtype=tf.int64, name=None))\n",
            "Validation pipe:  (TensorSpec(shape=(None, 64, 64, 3), dtype=tf.uint8, name=None), TensorSpec(shape=(None, 2), dtype=tf.int64, name=None))\n",
            "\n",
            "Training the model\n",
            "############## Running for following parameters ###############\n",
            "Model:  vgg_model Epochs:  10 , Optimizer:  adam , Learning rate:  0.0001 , Loss Function:  binary_crossentropy\n",
            "Epoch 1/10\n",
            " 2/50 [>.............................] - ETA: 4s - loss: 0.6974 - accuracy: 0.5078WARNING:tensorflow:Callbacks method `on_train_batch_end` is slow compared to the batch time (batch time: 0.0503s vs `on_train_batch_end` time: 0.1229s). Check your callbacks.\n",
            "50/50 [==============================] - 12s 247ms/step - loss: 0.5850 - accuracy: 0.6893 - val_loss: 0.2769 - val_accuracy: 0.9002\n",
            "Epoch 2/10\n",
            "50/50 [==============================] - 11s 222ms/step - loss: 0.2625 - accuracy: 0.9000 - val_loss: 0.1668 - val_accuracy: 0.9526\n",
            "Epoch 3/10\n",
            "50/50 [==============================] - 11s 227ms/step - loss: 0.1291 - accuracy: 0.9523 - val_loss: 0.1558 - val_accuracy: 0.9420\n",
            "Epoch 4/10\n",
            "50/50 [==============================] - 11s 224ms/step - loss: 0.0924 - accuracy: 0.9701 - val_loss: 0.1926 - val_accuracy: 0.9352\n",
            "Epoch 5/10\n",
            "50/50 [==============================] - 11s 221ms/step - loss: 0.0643 - accuracy: 0.9784 - val_loss: 0.1201 - val_accuracy: 0.9630\n",
            "Epoch 6/10\n",
            "50/50 [==============================] - 11s 217ms/step - loss: 0.0459 - accuracy: 0.9847 - val_loss: 0.1646 - val_accuracy: 0.9557\n",
            "Epoch 7/10\n",
            "50/50 [==============================] - 11s 217ms/step - loss: 0.0592 - accuracy: 0.9776 - val_loss: 0.2305 - val_accuracy: 0.9450\n",
            "Epoch 8/10\n",
            "50/50 [==============================] - 11s 218ms/step - loss: 0.0528 - accuracy: 0.9842 - val_loss: 0.2509 - val_accuracy: 0.9369\n",
            "Epoch 9/10\n",
            "50/50 [==============================] - 11s 220ms/step - loss: 0.0588 - accuracy: 0.9788 - val_loss: 0.1130 - val_accuracy: 0.9703\n",
            "Epoch 10/10\n",
            "50/50 [==============================] - 11s 223ms/step - loss: 0.0224 - accuracy: 0.9924 - val_loss: 0.1657 - val_accuracy: 0.9636\n",
            "6/6 [==============================] - 0s 43ms/step - loss: 0.1659 - accuracy: 0.9607\n",
            "Run complete. Test accuracy is:  0.9607046246528625\n",
            "\n",
            "############## Running for following parameters ###############\n",
            "Model:  resnet_model Epochs:  10 , Optimizer:  adam , Learning rate:  0.0001 , Loss Function:  binary_crossentropy\n",
            "Epoch 1/10\n",
            " 2/50 [>.............................] - ETA: 3s - loss: 1.2590 - accuracy: 0.4922WARNING:tensorflow:Callbacks method `on_train_batch_end` is slow compared to the batch time (batch time: 0.0513s vs `on_train_batch_end` time: 0.0779s). Check your callbacks.\n",
            "50/50 [==============================] - 10s 194ms/step - loss: 0.6159 - accuracy: 0.7002 - val_loss: 0.7150 - val_accuracy: 0.5062\n",
            "Epoch 2/10\n",
            "50/50 [==============================] - 8s 160ms/step - loss: 0.2264 - accuracy: 0.9150 - val_loss: 1.0164 - val_accuracy: 0.5039\n",
            "Epoch 3/10\n",
            "50/50 [==============================] - 8s 161ms/step - loss: 0.1083 - accuracy: 0.9603 - val_loss: 1.7559 - val_accuracy: 0.5052\n",
            "Epoch 4/10\n",
            "50/50 [==============================] - 8s 160ms/step - loss: 0.1065 - accuracy: 0.9594 - val_loss: 2.6279 - val_accuracy: 0.5065\n",
            "Epoch 5/10\n",
            "50/50 [==============================] - 8s 161ms/step - loss: 0.1053 - accuracy: 0.9682 - val_loss: 3.6935 - val_accuracy: 0.5135\n",
            "Epoch 6/10\n",
            "50/50 [==============================] - 8s 160ms/step - loss: 0.1628 - accuracy: 0.9532 - val_loss: 1.0384 - val_accuracy: 0.7180\n",
            "Epoch 7/10\n",
            "50/50 [==============================] - 8s 159ms/step - loss: 0.0223 - accuracy: 0.9956 - val_loss: 0.8714 - val_accuracy: 0.8110\n",
            "Epoch 8/10\n",
            "50/50 [==============================] - 8s 160ms/step - loss: 0.0079 - accuracy: 0.9995 - val_loss: 0.7602 - val_accuracy: 0.8459\n",
            "Epoch 9/10\n",
            "50/50 [==============================] - 8s 160ms/step - loss: 0.0076 - accuracy: 0.9995 - val_loss: 0.7610 - val_accuracy: 0.8562\n",
            "Epoch 10/10\n",
            "50/50 [==============================] - 8s 161ms/step - loss: 0.0050 - accuracy: 0.9997 - val_loss: 0.7186 - val_accuracy: 0.8744\n",
            "6/6 [==============================] - 0s 30ms/step - loss: 0.7611 - accuracy: 0.8577\n",
            "Run complete. Test accuracy is:  0.857723593711853\n",
            "\n",
            "############## Running for following parameters ###############\n",
            "Model:  dense_model Epochs:  10 , Optimizer:  adam , Learning rate:  0.0001 , Loss Function:  binary_crossentropy\n",
            "Epoch 1/10\n",
            "50/50 [==============================] - 0s 7ms/step - loss: 0.5056 - accuracy: 0.7921 - val_loss: 0.6672 - val_accuracy: 0.8438\n",
            "Epoch 2/10\n",
            "50/50 [==============================] - 0s 6ms/step - loss: 0.2493 - accuracy: 0.9042 - val_loss: 0.4530 - val_accuracy: 0.8422\n",
            "Epoch 3/10\n",
            "50/50 [==============================] - 0s 6ms/step - loss: 0.1757 - accuracy: 0.9337 - val_loss: 0.3152 - val_accuracy: 0.8883\n",
            "Epoch 4/10\n",
            "50/50 [==============================] - 0s 6ms/step - loss: 0.1299 - accuracy: 0.9538 - val_loss: 0.3358 - val_accuracy: 0.8922\n",
            "Epoch 5/10\n",
            "50/50 [==============================] - 0s 6ms/step - loss: 0.1025 - accuracy: 0.9659 - val_loss: 0.3213 - val_accuracy: 0.8994\n",
            "Epoch 6/10\n",
            "50/50 [==============================] - 0s 6ms/step - loss: 0.0862 - accuracy: 0.9709 - val_loss: 0.3415 - val_accuracy: 0.8875\n",
            "Epoch 7/10\n",
            "50/50 [==============================] - 0s 6ms/step - loss: 0.0718 - accuracy: 0.9775 - val_loss: 0.3172 - val_accuracy: 0.9018\n",
            "Epoch 8/10\n",
            "50/50 [==============================] - 0s 6ms/step - loss: 0.0566 - accuracy: 0.9838 - val_loss: 0.3341 - val_accuracy: 0.9115\n",
            "Epoch 9/10\n",
            "50/50 [==============================] - 0s 6ms/step - loss: 0.0400 - accuracy: 0.9902 - val_loss: 0.3374 - val_accuracy: 0.8995\n",
            "Epoch 10/10\n",
            "50/50 [==============================] - 0s 6ms/step - loss: 0.0426 - accuracy: 0.9860 - val_loss: 0.3389 - val_accuracy: 0.9075\n",
            "6/6 [==============================] - 0s 2ms/step - loss: 0.3201 - accuracy: 0.8997\n",
            "Run complete. Test accuracy is:  0.8997290134429932\n",
            "\n"
          ],
          "name": "stdout"
        }
      ]
    },
    {
      "cell_type": "code",
      "metadata": {
        "colab": {
          "base_uri": "https://localhost:8080/",
          "height": 159
        },
        "id": "ehaqGmqQzxEc",
        "outputId": "0c4946b7-e57a-4500-cedd-43f764dcef68"
      },
      "source": [
        "print(\"Below are the results of the tuning runs sorted by accuracy in descending order. \")         \n",
        "results_df"
      ],
      "execution_count": 8,
      "outputs": [
        {
          "output_type": "stream",
          "text": [
            "Below are the results of the tuning runs sorted by accuracy in descending order. \n"
          ],
          "name": "stdout"
        },
        {
          "output_type": "execute_result",
          "data": {
            "text/html": [
              "<div>\n",
              "<style scoped>\n",
              "    .dataframe tbody tr th:only-of-type {\n",
              "        vertical-align: middle;\n",
              "    }\n",
              "\n",
              "    .dataframe tbody tr th {\n",
              "        vertical-align: top;\n",
              "    }\n",
              "\n",
              "    .dataframe thead th {\n",
              "        text-align: right;\n",
              "    }\n",
              "</style>\n",
              "<table border=\"1\" class=\"dataframe\">\n",
              "  <thead>\n",
              "    <tr style=\"text-align: right;\">\n",
              "      <th></th>\n",
              "      <th>Model</th>\n",
              "      <th>Epochs</th>\n",
              "      <th>Optimizer</th>\n",
              "      <th>Learning rate</th>\n",
              "      <th>Loss Function</th>\n",
              "      <th>Test Accuracy</th>\n",
              "    </tr>\n",
              "  </thead>\n",
              "  <tbody>\n",
              "    <tr>\n",
              "      <th>0</th>\n",
              "      <td>&lt;tensorflow.python.keras.engine.functional.Fun...</td>\n",
              "      <td>10</td>\n",
              "      <td>adam</td>\n",
              "      <td>0.0001</td>\n",
              "      <td>binary_crossentropy</td>\n",
              "      <td>0.960705</td>\n",
              "    </tr>\n",
              "    <tr>\n",
              "      <th>2</th>\n",
              "      <td>&lt;tensorflow.python.keras.engine.sequential.Seq...</td>\n",
              "      <td>10</td>\n",
              "      <td>adam</td>\n",
              "      <td>0.0001</td>\n",
              "      <td>binary_crossentropy</td>\n",
              "      <td>0.899729</td>\n",
              "    </tr>\n",
              "    <tr>\n",
              "      <th>1</th>\n",
              "      <td>&lt;tensorflow.python.keras.engine.functional.Fun...</td>\n",
              "      <td>10</td>\n",
              "      <td>adam</td>\n",
              "      <td>0.0001</td>\n",
              "      <td>binary_crossentropy</td>\n",
              "      <td>0.857724</td>\n",
              "    </tr>\n",
              "  </tbody>\n",
              "</table>\n",
              "</div>"
            ],
            "text/plain": [
              "                                               Model  ...  Test Accuracy\n",
              "0  <tensorflow.python.keras.engine.functional.Fun...  ...       0.960705\n",
              "2  <tensorflow.python.keras.engine.sequential.Seq...  ...       0.899729\n",
              "1  <tensorflow.python.keras.engine.functional.Fun...  ...       0.857724\n",
              "\n",
              "[3 rows x 6 columns]"
            ]
          },
          "metadata": {
            "tags": []
          },
          "execution_count": 8
        }
      ]
    },
    {
      "cell_type": "code",
      "metadata": {
        "id": "PIPK7wxRBZGQ",
        "colab": {
          "base_uri": "https://localhost:8080/"
        },
        "outputId": "55f4abdb-f78d-471b-801e-bf194370d294"
      },
      "source": [
        "print(\"Best model name     : \", results_df.iloc[0][0].name)\n",
        "print(\"Next Best model name: \", results_df.iloc[1][0].name)\n",
        "print(\"Next Best model name: \", results_df.iloc[2][0].name)"
      ],
      "execution_count": 9,
      "outputs": [
        {
          "output_type": "stream",
          "text": [
            "Best model name     :  vgg19\n",
            "Next Best model name:  sequential\n",
            "Next Best model name:  resnet50\n"
          ],
          "name": "stdout"
        }
      ]
    },
    {
      "cell_type": "code",
      "metadata": {
        "id": "NB1onRNYaCbr",
        "colab": {
          "base_uri": "https://localhost:8080/",
          "height": 557
        },
        "outputId": "989c81e2-82c7-4e48-aa4e-feca63dc952b"
      },
      "source": [
        "# plot performance\n",
        "plot_accuracy_loss(best_accuracy_result.history['accuracy'],\n",
        "                   best_accuracy_result.history['val_accuracy'],\n",
        "                   best_accuracy_result.history['loss'], \n",
        "                   best_accuracy_result.history['val_loss'])\n"
      ],
      "execution_count": 10,
      "outputs": [
        {
          "output_type": "display_data",
          "data": {
            "image/png": "[encoded data removed]",
            "text/plain": [
              "<Figure size 432x288 with 1 Axes>"
            ]
          },
          "metadata": {
            "tags": [],
            "needs_background": "light"
          }
        },
        {
          "output_type": "display_data",
          "data": {
            "image/png": "[encoded data removed]",
            "text/plain": [
              "<Figure size 432x288 with 1 Axes>"
            ]
          },
          "metadata": {
            "tags": [],
            "needs_background": "light"
          }
        }
      ]
    },
    {
      "cell_type": "code",
      "metadata": {
        "id": "tqAh6Y8aAXie"
      },
      "source": [
        "# Save trained model for reuse\n",
        "best_model.save(\"model.h5\")"
      ],
      "execution_count": 11,
      "outputs": []
    },
    {
      "cell_type": "code",
      "metadata": {
        "id": "kjaUguAI1Ylw"
      },
      "source": [
        "# Another way to save model (gives ~4 times smaller files)\n",
        "model_json = best_model.to_json()\n",
        "with open(\"model.json\", \"w\") as json_file:\n",
        "    json_file.write(model_json)\n",
        "# serialize weights to HDF5\n",
        "best_model.save_weights(\"model_weights.h5\")"
      ],
      "execution_count": 12,
      "outputs": []
    },
    {
      "cell_type": "code",
      "metadata": {
        "id": "L3-pOY5E2SWE",
        "colab": {
          "base_uri": "https://localhost:8080/"
        },
        "outputId": "5c1c21ce-fcb1-4245-a028-16bef119274b"
      },
      "source": [
        "# Size in MB\n",
        "print(os.path.getsize(\"/content/model_weights.h5\")/1000000)\n",
        "print(os.path.getsize(\"/content/model.h5\")/1000000)\n",
        "print(os.path.getsize(\"/content/model.json\")/1000000)"
      ],
      "execution_count": 17,
      "outputs": [
        {
          "output_type": "stream",
          "text": [
            "180.893608\n",
            "542.658824\n",
            "0.013572\n"
          ],
          "name": "stdout"
        }
      ]
    }
  ]
}