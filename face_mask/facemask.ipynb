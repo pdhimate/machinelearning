{
  "nbformat": 4,
  "nbformat_minor": 0,
  "metadata": {
    "language_info": {
      "codemirror_mode": {
        "name": "ipython",
        "version": 3
      },
      "file_extension": ".py",
      "mimetype": "text/x-python",
      "name": "python",
      "nbconvert_exporter": "python",
      "pygments_lexer": "ipython3",
      "version": "3.7.8-final"
    },
    "orig_nbformat": 2,
    "kernelspec": {
      "name": "python_defaultSpec_1600496563814",
      "display_name": "Python 3.7.8 64-bit"
    },
    "colab": {
      "name": "facemask.ipynb",
      "provenance": [],
      "collapsed_sections": []
    },
    "accelerator": "GPU"
  },
  "cells": [
    {
      "cell_type": "code",
      "metadata": {
        "id": "j0XLhv5-Pwbr"
      },
      "source": [
        "import numpy as np\n",
        "import pandas as pd\n",
        "import glob\n",
        "import matplotlib.pyplot as plt\n",
        "import cv2\n",
        "import os\n",
        "from tqdm import tqdm\n",
        "from sklearn.model_selection import train_test_split\n",
        "from sklearn.utils import shuffle\n",
        "from keras.utils import to_categorical\n",
        "from keras.models import Sequential\n",
        "from keras.layers import Conv2D, MaxPooling2D, Dense, Flatten\n",
        "from keras.layers import Activation, Dropout\n",
        "from keras.optimizers import Adam, RMSprop\n"
      ],
      "execution_count": 98,
      "outputs": []
    },
    {
      "cell_type": "code",
      "metadata": {
        "id": "3MOnfihhPzm_",
        "outputId": "486d7473-822c-4792-eea6-7667880838cf",
        "colab": {
          "base_uri": "https://localhost:8080/"
        }
      },
      "source": [
        "# Download dataset from github\n",
        "!npx degit pdhimate/machinelearning/face_mask/dataset/with_mask#2780ff3eb9116e19cb35c060b4c569013ba0cd25 -f with_mask\n",
        "!npx degit pdhimate/machinelearning/face_mask/dataset/without_mask#2780ff3eb9116e19cb35c060b4c569013ba0cd25 -f without_mask\n"
      ],
      "execution_count": 99,
      "outputs": [
        {
          "output_type": "stream",
          "text": [
            "\u001b[K\u001b[?25hnpx: installed 1 in 0.774s\n",
            "\u001b[36m> destination directory is not empty. Using --force, continuing\u001b[39m\n",
            "\u001b[36m> cloned \u001b[1mpdhimate/machinelearning\u001b[22m#\u001b[1m2780ff3eb9116e19cb35c060b4c569013ba0cd25\u001b[22m to with_mask\u001b[39m\n",
            "\u001b[K\u001b[?25hnpx: installed 1 in 2.219s\n",
            "\u001b[36m> destination directory is not empty. Using --force, continuing\u001b[39m\n",
            "\u001b[36m> cloned \u001b[1mpdhimate/machinelearning\u001b[22m#\u001b[1m2780ff3eb9116e19cb35c060b4c569013ba0cd25\u001b[22m to without_mask\u001b[39m\n"
          ],
          "name": "stdout"
        }
      ]
    },
    {
      "cell_type": "code",
      "metadata": {
        "id": "UB1BGt6RkBNV"
      },
      "source": [
        "# Init variables and funcs\n",
        "WITH_MASK_DIR = '/content/with_mask'\n",
        "WITHOUT_MASK_DIR =  '/content/without_mask'\n",
        "img_height, img_width = 64, 64\n",
        "\n",
        "# Stores the entire dataset\n",
        "dataset = []\n",
        "\n",
        "def preprocess_dataset(dir, labels):\n",
        "  for img in tqdm(os.listdir(dir)):\n",
        "    path = os.path.join(dir, img)\n",
        "    img = cv2.imread(path)\n",
        "    img = cv2.resize(cv2.imread(path), (img_width, img_height))\n",
        "    img = img/255\n",
        "    dataset.append([np.array(img), np.array(labels)])\n",
        "\n",
        "def plot_accuracy_loss(train_ac, val_ac, train_loss, val_loss):\n",
        "  # Plot Epoch vs Accuracy metric values\n",
        "  plt.plot(train_ac, label='training accuracy')\n",
        "  plt.plot(val_ac, label = 'validation accuracy')\n",
        "  plt.xlabel('Epoch')\n",
        "  plt.ylabel('Accuracy')\n",
        "  plt.legend()\n",
        "  plt.show()\n",
        "\n",
        "  # Plot Epoch vs loss values\n",
        "  plt.plot(train_loss, label = 'training loss')\n",
        "  plt.plot(val_loss, label = 'validation loss')\n",
        "  plt.title('Model loss')\n",
        "  plt.xlabel('Epoch')\n",
        "  plt.ylabel('Loss')\n",
        "  plt.legend()\n",
        "  plt.show()\n"
      ],
      "execution_count": 100,
      "outputs": []
    },
    {
      "cell_type": "code",
      "metadata": {
        "id": "tbY1bJfgnhoH",
        "outputId": "16f350d7-7cb0-48df-d24a-a97f76803872",
        "colab": {
          "base_uri": "https://localhost:8080/"
        }
      },
      "source": [
        "# preprocess and train test split\n",
        "dataset = []\n",
        "preprocess_dataset(WITH_MASK_DIR, [1,0])\n",
        "preprocess_dataset(WITHOUT_MASK_DIR, [0,1])\n",
        "dataset = np.array(dataset)\n",
        "print(dataset.shape)\n",
        "data = np.array([i[0] for i in dataset]).reshape(-1, img_height, img_width, 3)\n",
        "labels = np.array([i[1] for i in dataset])#.reshape(-1, img_height, img_width, 3)\n",
        "print(labels)\n",
        "\n",
        "train_x, test_x, train_y, test_y = train_test_split(data,labels, test_size=0.25, random_state=42, stratify=labels)\n",
        "print(train_x.shape)\n",
        "print(train_y.shape)\n",
        "print(test_x.shape)\n",
        "print(test_y.shape)\n"
      ],
      "execution_count": 101,
      "outputs": [
        {
          "output_type": "stream",
          "text": [
            "100%|██████████| 1839/1839 [00:16<00:00, 111.42it/s]\n",
            "100%|██████████| 1850/1850 [00:03<00:00, 502.08it/s]\n"
          ],
          "name": "stderr"
        },
        {
          "output_type": "stream",
          "text": [
            "(3689, 2)\n",
            "[[1 0]\n",
            " [1 0]\n",
            " [1 0]\n",
            " ...\n",
            " [0 1]\n",
            " [0 1]\n",
            " [0 1]]\n",
            "(2766, 64, 64, 3)\n",
            "(2766, 2)\n",
            "(923, 64, 64, 3)\n",
            "(923, 2)\n"
          ],
          "name": "stdout"
        }
      ]
    },
    {
      "cell_type": "code",
      "metadata": {
        "id": "9WmKOo9TrgiQ",
        "outputId": "ef40da4e-5622-4091-fe01-10f2918d7cac",
        "colab": {
          "base_uri": "https://localhost:8080/"
        }
      },
      "source": [
        "def cnn_model():\n",
        "  model = Sequential()\n",
        "\n",
        "  model.add(Conv2D(32, (3,3), input_shape=train_x.shape[1:], activation='relu'))\n",
        "  model.add(MaxPooling2D((2,2), strides=(1,1), padding='same'))\n",
        "  model.add(Dropout(0.2))\n",
        "\n",
        "  model.add(Conv2D(64, (3,3), activation='relu'))\n",
        "  model.add(MaxPooling2D((2,2), strides=(1,1), padding='same'))\n",
        "  model.add(Dropout(0.2))\n",
        "\n",
        "  model.add(Conv2D(128, (3,3), activation='relu'))\n",
        "  model.add(MaxPooling2D((2,2), strides=(1,1), padding='same'))\n",
        "  model.add(Dropout(0.2))\n",
        "\n",
        "  model.add(Flatten())\n",
        "  model.add(Dense(128, activation='relu'))\n",
        "  model.add(Dense(64, activation='relu'))\n",
        "  model.add(Dropout(0.5))\n",
        "  model.add(Dense(2, activation='softmax'))\n",
        "  model.compile(optimizer='adam', loss='binary_crossentropy', metrics=['accuracy'])\n",
        "\n",
        "  return model\n",
        "\n",
        "model = cnn_model()\n",
        "model.summary()\n"
      ],
      "execution_count": 102,
      "outputs": [
        {
          "output_type": "stream",
          "text": [
            "Model: \"sequential_13\"\n",
            "_________________________________________________________________\n",
            "Layer (type)                 Output Shape              Param #   \n",
            "=================================================================\n",
            "conv2d_42 (Conv2D)           (None, 62, 62, 32)        896       \n",
            "_________________________________________________________________\n",
            "max_pooling2d_39 (MaxPooling (None, 62, 62, 32)        0         \n",
            "_________________________________________________________________\n",
            "dropout_47 (Dropout)         (None, 62, 62, 32)        0         \n",
            "_________________________________________________________________\n",
            "conv2d_43 (Conv2D)           (None, 60, 60, 64)        18496     \n",
            "_________________________________________________________________\n",
            "max_pooling2d_40 (MaxPooling (None, 60, 60, 64)        0         \n",
            "_________________________________________________________________\n",
            "dropout_48 (Dropout)         (None, 60, 60, 64)        0         \n",
            "_________________________________________________________________\n",
            "conv2d_44 (Conv2D)           (None, 58, 58, 128)       73856     \n",
            "_________________________________________________________________\n",
            "max_pooling2d_41 (MaxPooling (None, 58, 58, 128)       0         \n",
            "_________________________________________________________________\n",
            "dropout_49 (Dropout)         (None, 58, 58, 128)       0         \n",
            "_________________________________________________________________\n",
            "flatten_13 (Flatten)         (None, 430592)            0         \n",
            "_________________________________________________________________\n",
            "dense_31 (Dense)             (None, 128)               55115904  \n",
            "_________________________________________________________________\n",
            "dense_32 (Dense)             (None, 64)                8256      \n",
            "_________________________________________________________________\n",
            "dropout_50 (Dropout)         (None, 64)                0         \n",
            "_________________________________________________________________\n",
            "dense_33 (Dense)             (None, 2)                 130       \n",
            "=================================================================\n",
            "Total params: 55,217,538\n",
            "Trainable params: 55,217,538\n",
            "Non-trainable params: 0\n",
            "_________________________________________________________________\n"
          ],
          "name": "stdout"
        }
      ]
    },
    {
      "cell_type": "code",
      "metadata": {
        "id": "igyKPK9prm91",
        "outputId": "16222e6c-d72a-4bed-e97a-5d34bd7141ef",
        "colab": {
          "base_uri": "https://localhost:8080/"
        }
      },
      "source": [
        "hist = model.fit(train_x, train_y, batch_size=32, epochs=20, verbose=1, validation_split=0.2)"
      ],
      "execution_count": 103,
      "outputs": [
        {
          "output_type": "stream",
          "text": [
            "Epoch 1/20\n",
            " 2/70 [..............................] - ETA: 2s - loss: 3.5563 - accuracy: 0.5000WARNING:tensorflow:Callbacks method `on_train_batch_end` is slow compared to the batch time (batch time: 0.0215s vs `on_train_batch_end` time: 0.0329s). Check your callbacks.\n",
            "70/70 [==============================] - 3s 46ms/step - loss: 0.6360 - accuracy: 0.8395 - val_loss: 0.2434 - val_accuracy: 0.9188\n",
            "Epoch 2/20\n",
            "70/70 [==============================] - 3s 43ms/step - loss: 0.2515 - accuracy: 0.9073 - val_loss: 0.1886 - val_accuracy: 0.9404\n",
            "Epoch 3/20\n",
            "70/70 [==============================] - 3s 43ms/step - loss: 0.2186 - accuracy: 0.9259 - val_loss: 0.2244 - val_accuracy: 0.9458\n",
            "Epoch 4/20\n",
            "70/70 [==============================] - 3s 43ms/step - loss: 0.2039 - accuracy: 0.9272 - val_loss: 0.1580 - val_accuracy: 0.9404\n",
            "Epoch 5/20\n",
            "70/70 [==============================] - 3s 43ms/step - loss: 0.1448 - accuracy: 0.9458 - val_loss: 0.1083 - val_accuracy: 0.9531\n",
            "Epoch 6/20\n",
            "70/70 [==============================] - 3s 43ms/step - loss: 0.1173 - accuracy: 0.9575 - val_loss: 0.1639 - val_accuracy: 0.9260\n",
            "Epoch 7/20\n",
            "70/70 [==============================] - 3s 43ms/step - loss: 0.1320 - accuracy: 0.9525 - val_loss: 0.1508 - val_accuracy: 0.9422\n",
            "Epoch 8/20\n",
            "70/70 [==============================] - 3s 43ms/step - loss: 0.1472 - accuracy: 0.9512 - val_loss: 0.1352 - val_accuracy: 0.9422\n",
            "Epoch 9/20\n",
            "70/70 [==============================] - 3s 43ms/step - loss: 0.1476 - accuracy: 0.9462 - val_loss: 0.1205 - val_accuracy: 0.9549\n",
            "Epoch 10/20\n",
            "70/70 [==============================] - 3s 43ms/step - loss: 0.1026 - accuracy: 0.9598 - val_loss: 0.1614 - val_accuracy: 0.9422\n",
            "Epoch 11/20\n",
            "70/70 [==============================] - 3s 43ms/step - loss: 0.0644 - accuracy: 0.9742 - val_loss: 0.1175 - val_accuracy: 0.9657\n",
            "Epoch 12/20\n",
            "70/70 [==============================] - 3s 43ms/step - loss: 0.0720 - accuracy: 0.9792 - val_loss: 0.0849 - val_accuracy: 0.9729\n",
            "Epoch 13/20\n",
            "70/70 [==============================] - 3s 43ms/step - loss: 0.0471 - accuracy: 0.9837 - val_loss: 0.1238 - val_accuracy: 0.9657\n",
            "Epoch 14/20\n",
            "70/70 [==============================] - 3s 43ms/step - loss: 0.0348 - accuracy: 0.9873 - val_loss: 0.1363 - val_accuracy: 0.9603\n",
            "Epoch 15/20\n",
            "70/70 [==============================] - 3s 43ms/step - loss: 0.0735 - accuracy: 0.9778 - val_loss: 0.1348 - val_accuracy: 0.9495\n",
            "Epoch 16/20\n",
            "70/70 [==============================] - 3s 43ms/step - loss: 0.0387 - accuracy: 0.9864 - val_loss: 0.0991 - val_accuracy: 0.9657\n",
            "Epoch 17/20\n",
            "70/70 [==============================] - 3s 43ms/step - loss: 0.0240 - accuracy: 0.9923 - val_loss: 0.1215 - val_accuracy: 0.9747\n",
            "Epoch 18/20\n",
            "70/70 [==============================] - 3s 43ms/step - loss: 0.0075 - accuracy: 0.9968 - val_loss: 0.1512 - val_accuracy: 0.9675\n",
            "Epoch 19/20\n",
            "70/70 [==============================] - 3s 43ms/step - loss: 0.0305 - accuracy: 0.9910 - val_loss: 0.1697 - val_accuracy: 0.9657\n",
            "Epoch 20/20\n",
            "70/70 [==============================] - 3s 43ms/step - loss: 0.0706 - accuracy: 0.9792 - val_loss: 0.1008 - val_accuracy: 0.9711\n"
          ],
          "name": "stdout"
        }
      ]
    },
    {
      "cell_type": "code",
      "metadata": {
        "id": "NB1onRNYaCbr",
        "outputId": "2b4a9ee3-25f8-4f91-a553-50c7848dfc7c",
        "colab": {
          "base_uri": "https://localhost:8080/",
          "height": 591
        }
      },
      "source": [
        "# Evaluate against unseen data\n",
        "print(model.evaluate(test_x, test_y, verbose=1))\n",
        "\n",
        "# plot performance\n",
        "plot_accuracy_loss(hist.history['accuracy'], hist.history['val_accuracy'], hist.history['loss'], hist.history['val_loss'])\n"
      ],
      "execution_count": 104,
      "outputs": [
        {
          "output_type": "stream",
          "text": [
            "29/29 [==============================] - 0s 9ms/step - loss: 0.1386 - accuracy: 0.9599\n",
            "[0.13857336342334747, 0.9599133133888245]\n"
          ],
          "name": "stdout"
        },
        {
          "output_type": "display_data",
          "data": {
            "image/png": "[encoded data removed]",
            "text/plain": [
              "<Figure size 432x288 with 1 Axes>"
            ]
          },
          "metadata": {
            "tags": [],
            "needs_background": "light"
          }
        },
        {
          "output_type": "display_data",
          "data": {
            "image/png": "[encoded data removed]",
            "text/plain": [
              "<Figure size 432x288 with 1 Axes>"
            ]
          },
          "metadata": {
            "tags": [],
            "needs_background": "light"
          }
        }
      ]
    },
    {
      "cell_type": "code",
      "metadata": {
        "id": "tqAh6Y8aAXie"
      },
      "source": [
        "model.save(\"model.h5\")"
      ],
      "execution_count": 105,
      "outputs": []
    }
  ]
}